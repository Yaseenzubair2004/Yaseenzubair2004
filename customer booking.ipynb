{
  "nbformat": 4,
  "nbformat_minor": 0,
  "metadata": {
    "colab": {
      "provenance": [],
      "authorship_tag": "ABX9TyNL+YFrcoYdrSW37m0XkzGu",
      "include_colab_link": true
    },
    "kernelspec": {
      "name": "python3",
      "display_name": "Python 3"
    },
    "language_info": {
      "name": "python"
    }
  },
  "cells": [
    {
      "cell_type": "markdown",
      "metadata": {
        "id": "view-in-github",
        "colab_type": "text"
      },
      "source": [
        "<a href=\"https://colab.research.google.com/github/Yaseenzubair2004/Yaseenzubair2004/blob/main/customer%20booking.ipynb\" target=\"_parent\"><img src=\"https://colab.research.google.com/assets/colab-badge.svg\" alt=\"Open In Colab\"/></a>"
      ]
    },
    {
      "cell_type": "code",
      "source": [
        "import pandas as pd\n",
        "\n",
        "# Load the dataset, specifying the encoding\n",
        "file_path = \"/customer_booking.csv\"\n",
        "df = pd.read_csv(file_path, encoding='latin-1') # or try 'ISO-8859-1' if 'latin-1' doesn't work\n",
        "\n",
        "# Display the first few rows and basic info\n",
        "df.head(), df.info(), df.describe(include=\"all\")"
      ],
      "metadata": {
        "colab": {
          "base_uri": "https://localhost:8080/"
        },
        "id": "vkWVK8HAh9dT",
        "outputId": "09ae836b-8107-4bc0-b43d-b6a5dd4c3a28"
      },
      "execution_count": null,
      "outputs": [
        {
          "output_type": "stream",
          "name": "stdout",
          "text": [
            "<class 'pandas.core.frame.DataFrame'>\n",
            "RangeIndex: 50000 entries, 0 to 49999\n",
            "Data columns (total 14 columns):\n",
            " #   Column                 Non-Null Count  Dtype  \n",
            "---  ------                 --------------  -----  \n",
            " 0   num_passengers         50000 non-null  int64  \n",
            " 1   sales_channel          50000 non-null  object \n",
            " 2   trip_type              50000 non-null  object \n",
            " 3   purchase_lead          50000 non-null  int64  \n",
            " 4   length_of_stay         50000 non-null  int64  \n",
            " 5   flight_hour            50000 non-null  int64  \n",
            " 6   flight_day             50000 non-null  object \n",
            " 7   route                  50000 non-null  object \n",
            " 8   booking_origin         50000 non-null  object \n",
            " 9   wants_extra_baggage    50000 non-null  int64  \n",
            " 10  wants_preferred_seat   50000 non-null  int64  \n",
            " 11  wants_in_flight_meals  50000 non-null  int64  \n",
            " 12  flight_duration        50000 non-null  float64\n",
            " 13  booking_complete       50000 non-null  int64  \n",
            "dtypes: float64(1), int64(8), object(5)\n",
            "memory usage: 5.3+ MB\n"
          ]
        },
        {
          "output_type": "execute_result",
          "data": {
            "text/plain": [
              "(   num_passengers sales_channel  trip_type  purchase_lead  length_of_stay  \\\n",
              " 0               2      Internet  RoundTrip            262              19   \n",
              " 1               1      Internet  RoundTrip            112              20   \n",
              " 2               2      Internet  RoundTrip            243              22   \n",
              " 3               1      Internet  RoundTrip             96              31   \n",
              " 4               2      Internet  RoundTrip             68              22   \n",
              " \n",
              "    flight_hour flight_day   route booking_origin  wants_extra_baggage  \\\n",
              " 0            7        Sat  AKLDEL    New Zealand                    1   \n",
              " 1            3        Sat  AKLDEL    New Zealand                    0   \n",
              " 2           17        Wed  AKLDEL          India                    1   \n",
              " 3            4        Sat  AKLDEL    New Zealand                    0   \n",
              " 4           15        Wed  AKLDEL          India                    1   \n",
              " \n",
              "    wants_preferred_seat  wants_in_flight_meals  flight_duration  \\\n",
              " 0                     0                      0             5.52   \n",
              " 1                     0                      0             5.52   \n",
              " 2                     1                      0             5.52   \n",
              " 3                     0                      1             5.52   \n",
              " 4                     0                      1             5.52   \n",
              " \n",
              "    booking_complete  \n",
              " 0                 0  \n",
              " 1                 0  \n",
              " 2                 0  \n",
              " 3                 0  \n",
              " 4                 0  ,\n",
              " None,\n",
              "         num_passengers sales_channel  trip_type  purchase_lead  \\\n",
              " count     50000.000000         50000      50000   50000.000000   \n",
              " unique             NaN             2          3            NaN   \n",
              " top                NaN      Internet  RoundTrip            NaN   \n",
              " freq               NaN         44382      49497            NaN   \n",
              " mean          1.591240           NaN        NaN      84.940480   \n",
              " std           1.020165           NaN        NaN      90.451378   \n",
              " min           1.000000           NaN        NaN       0.000000   \n",
              " 25%           1.000000           NaN        NaN      21.000000   \n",
              " 50%           1.000000           NaN        NaN      51.000000   \n",
              " 75%           2.000000           NaN        NaN     115.000000   \n",
              " max           9.000000           NaN        NaN     867.000000   \n",
              " \n",
              "         length_of_stay  flight_hour flight_day   route booking_origin  \\\n",
              " count      50000.00000  50000.00000      50000   50000          50000   \n",
              " unique             NaN          NaN          7     799            104   \n",
              " top                NaN          NaN        Mon  AKLKUL      Australia   \n",
              " freq               NaN          NaN       8102    2680          17872   \n",
              " mean          23.04456      9.06634        NaN     NaN            NaN   \n",
              " std           33.88767      5.41266        NaN     NaN            NaN   \n",
              " min            0.00000      0.00000        NaN     NaN            NaN   \n",
              " 25%            5.00000      5.00000        NaN     NaN            NaN   \n",
              " 50%           17.00000      9.00000        NaN     NaN            NaN   \n",
              " 75%           28.00000     13.00000        NaN     NaN            NaN   \n",
              " max          778.00000     23.00000        NaN     NaN            NaN   \n",
              " \n",
              "         wants_extra_baggage  wants_preferred_seat  wants_in_flight_meals  \\\n",
              " count          50000.000000          50000.000000           50000.000000   \n",
              " unique                  NaN                   NaN                    NaN   \n",
              " top                     NaN                   NaN                    NaN   \n",
              " freq                    NaN                   NaN                    NaN   \n",
              " mean               0.668780              0.296960               0.427140   \n",
              " std                0.470657              0.456923               0.494668   \n",
              " min                0.000000              0.000000               0.000000   \n",
              " 25%                0.000000              0.000000               0.000000   \n",
              " 50%                1.000000              0.000000               0.000000   \n",
              " 75%                1.000000              1.000000               1.000000   \n",
              " max                1.000000              1.000000               1.000000   \n",
              " \n",
              "         flight_duration  booking_complete  \n",
              " count      50000.000000      50000.000000  \n",
              " unique              NaN               NaN  \n",
              " top                 NaN               NaN  \n",
              " freq                NaN               NaN  \n",
              " mean           7.277561          0.149560  \n",
              " std            1.496863          0.356643  \n",
              " min            4.670000          0.000000  \n",
              " 25%            5.620000          0.000000  \n",
              " 50%            7.570000          0.000000  \n",
              " 75%            8.830000          0.000000  \n",
              " max            9.500000          1.000000  )"
            ]
          },
          "metadata": {},
          "execution_count": 3
        }
      ]
    },
    {
      "cell_type": "code",
      "source": [
        "# Try loading the CSV file with a different encoding\n",
        "df = pd.read_csv(file_path, encoding='latin1')\n",
        "\n",
        "# Show basic info and statistics\n",
        "df.head(), df.info(), df.describe(include=\"all\")\n"
      ],
      "metadata": {
        "colab": {
          "base_uri": "https://localhost:8080/"
        },
        "id": "6H5QP-5uiF-K",
        "outputId": "152eca19-92ba-4ddc-c138-0423e630fd5c"
      },
      "execution_count": null,
      "outputs": [
        {
          "output_type": "stream",
          "name": "stdout",
          "text": [
            "<class 'pandas.core.frame.DataFrame'>\n",
            "RangeIndex: 50000 entries, 0 to 49999\n",
            "Data columns (total 14 columns):\n",
            " #   Column                 Non-Null Count  Dtype  \n",
            "---  ------                 --------------  -----  \n",
            " 0   num_passengers         50000 non-null  int64  \n",
            " 1   sales_channel          50000 non-null  object \n",
            " 2   trip_type              50000 non-null  object \n",
            " 3   purchase_lead          50000 non-null  int64  \n",
            " 4   length_of_stay         50000 non-null  int64  \n",
            " 5   flight_hour            50000 non-null  int64  \n",
            " 6   flight_day             50000 non-null  object \n",
            " 7   route                  50000 non-null  object \n",
            " 8   booking_origin         50000 non-null  object \n",
            " 9   wants_extra_baggage    50000 non-null  int64  \n",
            " 10  wants_preferred_seat   50000 non-null  int64  \n",
            " 11  wants_in_flight_meals  50000 non-null  int64  \n",
            " 12  flight_duration        50000 non-null  float64\n",
            " 13  booking_complete       50000 non-null  int64  \n",
            "dtypes: float64(1), int64(8), object(5)\n",
            "memory usage: 5.3+ MB\n"
          ]
        },
        {
          "output_type": "execute_result",
          "data": {
            "text/plain": [
              "(   num_passengers sales_channel  trip_type  purchase_lead  length_of_stay  \\\n",
              " 0               2      Internet  RoundTrip            262              19   \n",
              " 1               1      Internet  RoundTrip            112              20   \n",
              " 2               2      Internet  RoundTrip            243              22   \n",
              " 3               1      Internet  RoundTrip             96              31   \n",
              " 4               2      Internet  RoundTrip             68              22   \n",
              " \n",
              "    flight_hour flight_day   route booking_origin  wants_extra_baggage  \\\n",
              " 0            7        Sat  AKLDEL    New Zealand                    1   \n",
              " 1            3        Sat  AKLDEL    New Zealand                    0   \n",
              " 2           17        Wed  AKLDEL          India                    1   \n",
              " 3            4        Sat  AKLDEL    New Zealand                    0   \n",
              " 4           15        Wed  AKLDEL          India                    1   \n",
              " \n",
              "    wants_preferred_seat  wants_in_flight_meals  flight_duration  \\\n",
              " 0                     0                      0             5.52   \n",
              " 1                     0                      0             5.52   \n",
              " 2                     1                      0             5.52   \n",
              " 3                     0                      1             5.52   \n",
              " 4                     0                      1             5.52   \n",
              " \n",
              "    booking_complete  \n",
              " 0                 0  \n",
              " 1                 0  \n",
              " 2                 0  \n",
              " 3                 0  \n",
              " 4                 0  ,\n",
              " None,\n",
              "         num_passengers sales_channel  trip_type  purchase_lead  \\\n",
              " count     50000.000000         50000      50000   50000.000000   \n",
              " unique             NaN             2          3            NaN   \n",
              " top                NaN      Internet  RoundTrip            NaN   \n",
              " freq               NaN         44382      49497            NaN   \n",
              " mean          1.591240           NaN        NaN      84.940480   \n",
              " std           1.020165           NaN        NaN      90.451378   \n",
              " min           1.000000           NaN        NaN       0.000000   \n",
              " 25%           1.000000           NaN        NaN      21.000000   \n",
              " 50%           1.000000           NaN        NaN      51.000000   \n",
              " 75%           2.000000           NaN        NaN     115.000000   \n",
              " max           9.000000           NaN        NaN     867.000000   \n",
              " \n",
              "         length_of_stay  flight_hour flight_day   route booking_origin  \\\n",
              " count      50000.00000  50000.00000      50000   50000          50000   \n",
              " unique             NaN          NaN          7     799            104   \n",
              " top                NaN          NaN        Mon  AKLKUL      Australia   \n",
              " freq               NaN          NaN       8102    2680          17872   \n",
              " mean          23.04456      9.06634        NaN     NaN            NaN   \n",
              " std           33.88767      5.41266        NaN     NaN            NaN   \n",
              " min            0.00000      0.00000        NaN     NaN            NaN   \n",
              " 25%            5.00000      5.00000        NaN     NaN            NaN   \n",
              " 50%           17.00000      9.00000        NaN     NaN            NaN   \n",
              " 75%           28.00000     13.00000        NaN     NaN            NaN   \n",
              " max          778.00000     23.00000        NaN     NaN            NaN   \n",
              " \n",
              "         wants_extra_baggage  wants_preferred_seat  wants_in_flight_meals  \\\n",
              " count          50000.000000          50000.000000           50000.000000   \n",
              " unique                  NaN                   NaN                    NaN   \n",
              " top                     NaN                   NaN                    NaN   \n",
              " freq                    NaN                   NaN                    NaN   \n",
              " mean               0.668780              0.296960               0.427140   \n",
              " std                0.470657              0.456923               0.494668   \n",
              " min                0.000000              0.000000               0.000000   \n",
              " 25%                0.000000              0.000000               0.000000   \n",
              " 50%                1.000000              0.000000               0.000000   \n",
              " 75%                1.000000              1.000000               1.000000   \n",
              " max                1.000000              1.000000               1.000000   \n",
              " \n",
              "         flight_duration  booking_complete  \n",
              " count      50000.000000      50000.000000  \n",
              " unique              NaN               NaN  \n",
              " top                 NaN               NaN  \n",
              " freq                NaN               NaN  \n",
              " mean           7.277561          0.149560  \n",
              " std            1.496863          0.356643  \n",
              " min            4.670000          0.000000  \n",
              " 25%            5.620000          0.000000  \n",
              " 50%            7.570000          0.000000  \n",
              " 75%            8.830000          0.000000  \n",
              " max            9.500000          1.000000  )"
            ]
          },
          "metadata": {},
          "execution_count": 4
        }
      ]
    },
    {
      "cell_type": "markdown",
      "source": [
        "The dataset has 50,000 rows and 14 columns, with no missing values. The target column is booking_complete (1 = booked, 0 = not booked). Here's a quick summary of key features:\n",
        "\n",
        "🧾 Features Overview\n",
        "Feature\tType\tDescription\n",
        "num_passengers\tNumeric\tNumber of passengers for the booking\n",
        "sales_channel\tCategorical\tHow the ticket was booked (Internet or Call Center)\n",
        "trip_type\tCategorical\tRoundTrip, OneWay, etc.\n",
        "purchase_lead\tNumeric\tDays in advance the ticket was purchased\n",
        "length_of_stay\tNumeric\tDuration of trip\n",
        "flight_hour\tNumeric\tHour of departure\n",
        "flight_day\tCategorical\tDay of the week (Mon-Sun)\n",
        "route\tCategorical\tFlight route (e.g., AKLDEL)\n",
        "booking_origin\tCategorical\tCountry of booking\n",
        "wants_extra_baggage\tBinary\tWhether extra baggage was requested\n",
        "wants_preferred_seat\tBinary\tWhether preferred seating was requested\n",
        "wants_in_flight_meals\tBinary\tWhether meals were requested\n",
        "flight_duration\tNumeric\tTotal flight time in hours\n",
        "booking_complete\tBinary\tTarget variable\n",
        "\n"
      ],
      "metadata": {
        "id": "Vkvjw2SMiWb1"
      }
    },
    {
      "cell_type": "markdown",
      "source": [
        "✅ Next Steps\n",
        "Data Preparation: Encode categorical variables, scale numeric ones.\n",
        "\n",
        "Feature Engineering: Possibly extract region from booking_origin, split route into origin and destination.\n",
        "\n",
        "Model Training: Use RandomForestClassifier for prediction and feature importance.\n",
        "\n",
        "Model Evaluation: Use accuracy, precision, recall, and cross-validation.\n",
        "\n",
        "Visualization & Summary Slide: Show feature importance, confusion matrix, and a summary slide."
      ],
      "metadata": {
        "id": "N5UVSe_gib0Z"
      }
    },
    {
      "cell_type": "code",
      "source": [
        "# First, copy the original dataframe to preserve it\n",
        "df_clean = df.copy()\n",
        "\n",
        "# Feature engineering: split 'route' into origin and destination\n",
        "df_clean[['origin', 'destination']] = df_clean['route'].str.extract(r'([A-Z]{3})([A-Z]{3})')\n",
        "\n",
        "# Drop the original 'route' column\n",
        "df_clean.drop(columns=['route'], inplace=True)\n",
        "\n",
        "# Encode categorical variables using one-hot encoding\n",
        "categorical_cols = ['sales_channel', 'trip_type', 'flight_day', 'booking_origin', 'origin', 'destination']\n",
        "df_encoded = pd.get_dummies(df_clean, columns=categorical_cols, drop_first=True)\n",
        "\n",
        "# Show the transformed dataset shape and a preview\n",
        "df_encoded.shape, df_encoded.head()\n"
      ],
      "metadata": {
        "colab": {
          "base_uri": "https://localhost:8080/"
        },
        "id": "gkpgI5Q8iN8U",
        "outputId": "a82a6b51-c13a-4d9d-f7e9-7c6dfd6fa831"
      },
      "execution_count": null,
      "outputs": [
        {
          "output_type": "execute_result",
          "data": {
            "text/plain": [
              "((50000, 268),\n",
              "    num_passengers  purchase_lead  length_of_stay  flight_hour  \\\n",
              " 0               2            262              19            7   \n",
              " 1               1            112              20            3   \n",
              " 2               2            243              22           17   \n",
              " 3               1             96              31            4   \n",
              " 4               2             68              22           15   \n",
              " \n",
              "    wants_extra_baggage  wants_preferred_seat  wants_in_flight_meals  \\\n",
              " 0                    1                     0                      0   \n",
              " 1                    0                     0                      0   \n",
              " 2                    1                     1                      0   \n",
              " 3                    0                     0                      1   \n",
              " 4                    1                     0                      1   \n",
              " \n",
              "    flight_duration  booking_complete  sales_channel_Mobile  ...  \\\n",
              " 0             5.52                 0                 False  ...   \n",
              " 1             5.52                 0                 False  ...   \n",
              " 2             5.52                 0                 False  ...   \n",
              " 3             5.52                 0                 False  ...   \n",
              " 4             5.52                 0                 False  ...   \n",
              " \n",
              "    destination_TGG  destination_TPE  destination_TRZ  destination_TWU  \\\n",
              " 0            False            False            False            False   \n",
              " 1            False            False            False            False   \n",
              " 2            False            False            False            False   \n",
              " 3            False            False            False            False   \n",
              " 4            False            False            False            False   \n",
              " \n",
              "    destination_URT  destination_UTP  destination_VTE  destination_VTZ  \\\n",
              " 0            False            False            False            False   \n",
              " 1            False            False            False            False   \n",
              " 2            False            False            False            False   \n",
              " 3            False            False            False            False   \n",
              " 4            False            False            False            False   \n",
              " \n",
              "    destination_WUH  destination_XIY  \n",
              " 0            False            False  \n",
              " 1            False            False  \n",
              " 2            False            False  \n",
              " 3            False            False  \n",
              " 4            False            False  \n",
              " \n",
              " [5 rows x 268 columns])"
            ]
          },
          "metadata": {},
          "execution_count": 5
        }
      ]
    },
    {
      "cell_type": "markdown",
      "source": [
        "✅ The dataset is now cleaned and encoded, with the following transformations:\n",
        "\n",
        "Split route into origin and destination.\n",
        "\n",
        "Applied one-hot encoding to all categorical features.\n",
        "\n",
        "Final dataset has 268 columns (including encoded features).\n",
        "\n",
        "Next Step:\n",
        "Train a Random Forest Classifier to predict booking_complete."
      ],
      "metadata": {
        "id": "w9uS60ZLij8p"
      }
    },
    {
      "cell_type": "code",
      "source": [
        "from sklearn.ensemble import RandomForestClassifier\n",
        "from sklearn.model_selection import train_test_split, cross_val_score\n",
        "from sklearn.metrics import classification_report, confusion_matrix, accuracy_score\n",
        "import matplotlib.pyplot as plt\n",
        "import seaborn as sns\n",
        "\n",
        "# Separate features and target\n",
        "X = df_encoded.drop(columns=['booking_complete'])\n",
        "y = df_encoded['booking_complete']\n",
        "\n",
        "# Train-test split\n",
        "X_train, X_test, y_train, y_test = train_test_split(X, y, test_size=0.2, random_state=42)\n",
        "\n",
        "# Initialize and train RandomForest\n",
        "rf = RandomForestClassifier(n_estimators=100, random_state=42)\n",
        "rf.fit(X_train, y_train)\n",
        "\n",
        "# Predictions\n",
        "y_pred = rf.predict(X_test)\n",
        "\n",
        "# Evaluate the model\n",
        "accuracy = accuracy_score(y_test, y_pred)\n",
        "report = classification_report(y_test, y_pred)\n",
        "conf_matrix = confusion_matrix(y_test, y_pred)\n",
        "\n",
        "accuracy, report, conf_matrix\n"
      ],
      "metadata": {
        "colab": {
          "base_uri": "https://localhost:8080/"
        },
        "id": "TJn7JetGie8E",
        "outputId": "8459a7e3-2525-4bbf-97b1-20c18321af23"
      },
      "execution_count": null,
      "outputs": [
        {
          "output_type": "execute_result",
          "data": {
            "text/plain": [
              "(0.8557,\n",
              " '              precision    recall  f1-score   support\\n\\n           0       0.87      0.98      0.92      8520\\n           1       0.55      0.14      0.22      1480\\n\\n    accuracy                           0.86     10000\\n   macro avg       0.71      0.56      0.57     10000\\nweighted avg       0.82      0.86      0.82     10000\\n',\n",
              " array([[8350,  170],\n",
              "        [1273,  207]]))"
            ]
          },
          "metadata": {},
          "execution_count": 6
        }
      ]
    },
    {
      "cell_type": "code",
      "source": [
        "from sklearn.ensemble import RandomForestClassifier\n",
        "from sklearn.model_selection import train_test_split\n",
        "from sklearn.metrics import classification_report, confusion_matrix, accuracy_score\n",
        "\n",
        "# Separate features and target\n",
        "X = df_encoded.drop(columns=['booking_complete'])\n",
        "y = df_encoded['booking_complete']\n",
        "\n",
        "# Train-test split\n",
        "X_train, X_test, y_train, y_test = train_test_split(X, y, test_size=0.2, random_state=42)\n",
        "\n",
        "# Initialize and train the model\n",
        "rf = RandomForestClassifier(n_estimators=100, random_state=42)\n",
        "rf.fit(X_train, y_train)\n",
        "\n",
        "# Predictions\n",
        "y_pred = rf.predict(X_test)\n",
        "\n",
        "# Evaluation\n",
        "print(\"Accuracy:\", accuracy_score(y_test, y_pred))\n",
        "print(\"Classification Report:\\n\", classification_report(y_test, y_pred))\n",
        "print(\"Confusion Matrix:\\n\", confusion_matrix(y_test, y_pred))\n"
      ],
      "metadata": {
        "colab": {
          "base_uri": "https://localhost:8080/"
        },
        "id": "DszfD3MZiqq4",
        "outputId": "e31330b7-78b5-415e-d213-b6dc4529a90e"
      },
      "execution_count": null,
      "outputs": [
        {
          "output_type": "stream",
          "name": "stdout",
          "text": [
            "Accuracy: 0.8557\n",
            "Classification Report:\n",
            "               precision    recall  f1-score   support\n",
            "\n",
            "           0       0.87      0.98      0.92      8520\n",
            "           1       0.55      0.14      0.22      1480\n",
            "\n",
            "    accuracy                           0.86     10000\n",
            "   macro avg       0.71      0.56      0.57     10000\n",
            "weighted avg       0.82      0.86      0.82     10000\n",
            "\n",
            "Confusion Matrix:\n",
            " [[8350  170]\n",
            " [1273  207]]\n"
          ]
        }
      ]
    },
    {
      "cell_type": "code",
      "source": [
        "import matplotlib.pyplot as plt\n",
        "import seaborn as sns\n",
        "\n",
        "# Get feature importances and names\n",
        "importances = rf.feature_importances_\n",
        "feature_names = X.columns\n",
        "\n",
        "# Create a DataFrame for sorting\n",
        "feature_df = pd.DataFrame({'Feature': feature_names, 'Importance': importances})\n",
        "top_features = feature_df.sort_values(by='Importance', ascending=False).head(15)\n",
        "\n",
        "# Plot\n",
        "plt.figure(figsize=(10, 6))\n",
        "sns.barplot(data=top_features, x='Importance', y='Feature', palette='viridis')\n",
        "plt.title('Top 15 Feature Importances in Random Forest Model')\n",
        "plt.tight_layout()\n",
        "plt.show()\n"
      ],
      "metadata": {
        "colab": {
          "base_uri": "https://localhost:8080/",
          "height": 525
        },
        "id": "hg9ZLktRi2Vp",
        "outputId": "bc79a836-e5a3-4bb7-8c97-2921a60f5765"
      },
      "execution_count": null,
      "outputs": [
        {
          "output_type": "stream",
          "name": "stderr",
          "text": [
            "<ipython-input-8-c6d12c409bc4>:14: FutureWarning: \n",
            "\n",
            "Passing `palette` without assigning `hue` is deprecated and will be removed in v0.14.0. Assign the `y` variable to `hue` and set `legend=False` for the same effect.\n",
            "\n",
            "  sns.barplot(data=top_features, x='Importance', y='Feature', palette='viridis')\n"
          ]
        },
        {
          "output_type": "display_data",
          "data": {
            "text/plain": [
              "<Figure size 1000x600 with 1 Axes>"
            ],
            "image/png": "[encoded data removed]"
          },
          "metadata": {}
        }
      ]
    },
    {
      "cell_type": "code",
      "source": [
        "!pip install python-pptx"
      ],
      "metadata": {
        "colab": {
          "base_uri": "https://localhost:8080/"
        },
        "id": "Rzl98fAAjGLw",
        "outputId": "7f9f7b61-5801-42c0-f3ae-f388db8acc57"
      },
      "execution_count": null,
      "outputs": [
        {
          "output_type": "stream",
          "name": "stdout",
          "text": [
            "Collecting python-pptx\n",
            "  Downloading python_pptx-1.0.2-py3-none-any.whl.metadata (2.5 kB)\n",
            "Requirement already satisfied: Pillow>=3.3.2 in /usr/local/lib/python3.11/dist-packages (from python-pptx) (11.2.1)\n",
            "Collecting XlsxWriter>=0.5.7 (from python-pptx)\n",
            "  Downloading XlsxWriter-3.2.3-py3-none-any.whl.metadata (2.7 kB)\n",
            "Requirement already satisfied: lxml>=3.1.0 in /usr/local/lib/python3.11/dist-packages (from python-pptx) (5.4.0)\n",
            "Requirement already satisfied: typing-extensions>=4.9.0 in /usr/local/lib/python3.11/dist-packages (from python-pptx) (4.13.2)\n",
            "Downloading python_pptx-1.0.2-py3-none-any.whl (472 kB)\n",
            "\u001b[2K   \u001b[90m━━━━━━━━━━━━━━━━━━━━━━━━━━━━━━━━━━━━━━━━\u001b[0m \u001b[32m472.8/472.8 kB\u001b[0m \u001b[31m20.6 MB/s\u001b[0m eta \u001b[36m0:00:00\u001b[0m\n",
            "\u001b[?25hDownloading XlsxWriter-3.2.3-py3-none-any.whl (169 kB)\n",
            "\u001b[2K   \u001b[90m━━━━━━━━━━━━━━━━━━━━━━━━━━━━━━━━━━━━━━━━\u001b[0m \u001b[32m169.4/169.4 kB\u001b[0m \u001b[31m14.1 MB/s\u001b[0m eta \u001b[36m0:00:00\u001b[0m\n",
            "\u001b[?25hInstalling collected packages: XlsxWriter, python-pptx\n",
            "Successfully installed XlsxWriter-3.2.3 python-pptx-1.0.2\n"
          ]
        }
      ]
    },
    {
      "cell_type": "code",
      "source": [
        "!pip install python-pptx # Install the python-pptx library\n",
        "\n",
        "from pptx import Presentation # Now you can import Presentation and other components\n",
        "from pptx.util import Inches, Pt\n",
        "from pptx.enum.shapes import MSO_SHAPE\n",
        "from pptx.dml.color import RGBColor\n",
        "\n",
        "# ... (rest of your code remains the same) ..."
      ],
      "metadata": {
        "colab": {
          "base_uri": "https://localhost:8080/"
        },
        "id": "rTlNm25IjM7d",
        "outputId": "c2ccb9ea-4b73-4751-fbd6-592dde265dd9"
      },
      "execution_count": null,
      "outputs": [
        {
          "output_type": "stream",
          "name": "stdout",
          "text": [
            "Requirement already satisfied: python-pptx in /usr/local/lib/python3.11/dist-packages (1.0.2)\n",
            "Requirement already satisfied: Pillow>=3.3.2 in /usr/local/lib/python3.11/dist-packages (from python-pptx) (11.2.1)\n",
            "Requirement already satisfied: XlsxWriter>=0.5.7 in /usr/local/lib/python3.11/dist-packages (from python-pptx) (3.2.3)\n",
            "Requirement already satisfied: lxml>=3.1.0 in /usr/local/lib/python3.11/dist-packages (from python-pptx) (5.4.0)\n",
            "Requirement already satisfied: typing-extensions>=4.9.0 in /usr/local/lib/python3.11/dist-packages (from python-pptx) (4.13.2)\n"
          ]
        }
      ]
    },
    {
      "cell_type": "code",
      "source": [
        "from pptx import Presentation\n",
        "from pptx.util import Inches, Pt\n",
        "from pptx.enum.shapes import MSO_SHAPE\n",
        "from pptx.dml.color import RGBColor\n",
        "\n",
        "# Create a presentation\n",
        "prs = Presentation()\n",
        "slide_layout = prs.slide_layouts[1]  # Title and Content layout\n",
        "slide = prs.slides.add_slide(slide_layout)\n",
        "\n",
        "# Title\n",
        "slide.shapes.title.text = \"Customer Booking Prediction Model – Summary\"\n",
        "\n",
        "# Bullet Points\n",
        "content = slide.placeholders[1]\n",
        "content.text = (\n",
        "    \"• Objective: Predict the likelihood of a customer completing a booking\\n\"\n",
        "    \"• Algorithm Used: Random Forest Classifier\\n\"\n",
        "    \"• Dataset Size: 50,000 records with 268 features after encoding\\n\"\n",
        "    \"• Model Accuracy: ~[Insert Accuracy]%\\n\"\n",
        "    \"• Evaluation Metrics: Precision, Recall, F1-score, Confusion Matrix\\n\"\n",
        "    \"• Top Influential Features:\\n\"\n",
        "    \"   - purchase_lead\\n\"\n",
        "    \"   - flight_hour\\n\"\n",
        "    \"   - length_of_stay\\n\"\n",
        "    \"   - wants_extra_baggage\\n\"\n",
        "    \"   - booking_origin_Australia (and other countries)\\n\"\n",
        "    \"• Next Steps:\\n\"\n",
        "    \"   - Feature selection to reduce complexity\\n\"\n",
        "    \"   - Try alternative models (e.g., Gradient Boosting)\"\n",
        ")\n",
        "\n",
        "# Save the presentation\n",
        "# Changed the save path to the current directory\n",
        "pptx_path = \"Customer_Booking_Model_Summary.pptx\"\n",
        "prs.save(pptx_path)\n",
        "\n",
        "pptx_path"
      ],
      "metadata": {
        "colab": {
          "base_uri": "https://localhost:8080/",
          "height": 36
        },
        "id": "i_Ex0zPQjUGg",
        "outputId": "ec8cd00d-226f-4c3f-b789-a40f8be009a9"
      },
      "execution_count": null,
      "outputs": [
        {
          "output_type": "execute_result",
          "data": {
            "text/plain": [
              "'Customer_Booking_Model_Summary.pptx'"
            ],
            "application/vnd.google.colaboratory.intrinsic+json": {
              "type": "string"
            }
          },
          "metadata": {},
          "execution_count": 14
        }
      ]
    },
    {
      "cell_type": "code",
      "source": [],
      "metadata": {
        "id": "joheBDpojlzH"
      },
      "execution_count": null,
      "outputs": []
    }
  ]
}